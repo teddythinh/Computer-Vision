{
 "cells": [
  {
   "cell_type": "code",
   "execution_count": null,
   "metadata": {},
   "outputs": [],
   "source": [
    "import cv2 as cv"
   ]
  },
  {
   "cell_type": "code",
   "execution_count": null,
   "metadata": {},
   "outputs": [],
   "source": [
    "img = cv.imread('Photos/cat.jpg')\n",
    "cv.imshow('Cat', img)\n",
    "\n",
    "# Converting to grayscale\n",
    "gray = cv.cvtColor(img, cv.COLOR_BGR2GRAY)\n",
    "cv.imshow('Gray Cat', gray)\n",
    "cv.waitKey(0)"
   ]
  },
  {
   "cell_type": "code",
   "execution_count": null,
   "metadata": {},
   "outputs": [],
   "source": [
    "img = cv.imread('Photos/park.jpg')\n",
    "cv.imshow('Park', img)\n",
    "\n",
    "# Converting to grayscale\n",
    "gray = cv.cvtColor(img, cv.COLOR_BGR2GRAY)\n",
    "cv.imshow('Gray Park', gray)\n",
    "cv.waitKey(0)"
   ]
  },
  {
   "cell_type": "code",
   "execution_count": null,
   "metadata": {},
   "outputs": [],
   "source": [
    "img = cv.imread('Photos/park.jpg')\n",
    "cv.imshow('Park', img)\n",
    "\n",
    "# Blur an image\n",
    "blur = cv.GaussianBlur(img, (7, 7), cv.BORDER_DEFAULT)\n",
    "cv.imshow('Blur Park', blur)\n",
    "cv.waitKey(0)"
   ]
  },
  {
   "cell_type": "code",
   "execution_count": null,
   "metadata": {},
   "outputs": [],
   "source": [
    "img = cv.imread('Photos/park.jpg')\n",
    "cv.imshow('Park', img)\n",
    "\n",
    "# Edge Cascade\n",
    "canny = cv.Canny(img, 125, 175)\n",
    "cv.imshow('Canny Park', canny)\n",
    "cv.waitKey(0)"
   ]
  },
  {
   "cell_type": "code",
   "execution_count": null,
   "metadata": {},
   "outputs": [],
   "source": [
    "img = cv.imread('Photos/park.jpg')\n",
    "cv.imshow('Park', img)\n",
    "\n",
    "# Edge Cascade\n",
    "blur = cv.GaussianBlur(img, (7, 7), cv.BORDER_DEFAULT)\n",
    "canny = cv.Canny(blur, 125, 175)\n",
    "cv.imshow('Canny Park', canny)\n",
    "cv.waitKey(0)"
   ]
  },
  {
   "cell_type": "code",
   "execution_count": null,
   "metadata": {},
   "outputs": [],
   "source": [
    "img = cv.imread('Photos/park.jpg')\n",
    "cv.imshow('Park', img)\n",
    "\n",
    "blur = cv.GaussianBlur(img, (7, 7), cv.BORDER_DEFAULT)\n",
    "canny = cv.Canny(blur, 125, 175)\n",
    "\n",
    "# Dilate the image (Phóng to)\n",
    "dilated = cv.dilate(canny, (3, 3), iterations=3)\n",
    "cv.imshow(\"Dilated Park\", dilated)\n",
    "cv.waitKey(0)"
   ]
  },
  {
   "cell_type": "code",
   "execution_count": null,
   "metadata": {},
   "outputs": [],
   "source": [
    "img = cv.imread('Photos/park.jpg')\n",
    "cv.imshow('Park', img)\n",
    "\n",
    "blur = cv.GaussianBlur(img, (7, 7), cv.BORDER_DEFAULT)\n",
    "canny = cv.Canny(blur, 125, 175)\n",
    "\n",
    "# Dilate the image (Phóng to)\n",
    "dilated = cv.dilate(canny, (7, 7), iterations=3)\n",
    "cv.imshow(\"Dilated Park\", dilated)\n",
    "\n",
    "# Erode the image (Thu nhỏ)\n",
    "eroded = cv.erode(dilated, (7, 7), iterations=3)\n",
    "cv.imshow(\"Eroded Park\", eroded)\n",
    "cv.waitKey(0)"
   ]
  },
  {
   "cell_type": "code",
   "execution_count": null,
   "metadata": {},
   "outputs": [],
   "source": [
    "img = cv.imread('Photos/park.jpg')\n",
    "cv.imshow('Park', img)\n",
    "\n",
    "# Resize the image\n",
    "resized = cv.resize(img, (500, 500), interpolation=cv.INTER_CUBIC)\n",
    "cv.imshow(\"Resized Park\", resized)\n",
    "cv.waitKey(0)"
   ]
  },
  {
   "cell_type": "code",
   "execution_count": null,
   "metadata": {},
   "outputs": [],
   "source": [
    "img = cv.imread('Photos/park.jpg')\n",
    "cv.imshow('Park', img)\n",
    "\n",
    "# Crop the image\n",
    "cropped = img[50:200, 200:400]\n",
    "cv.imshow(\"Cropped Park\", cropped)"
   ]
  }
 ],
 "metadata": {
  "kernelspec": {
   "display_name": "Python 3.10.4 64-bit",
   "language": "python",
   "name": "python3"
  },
  "language_info": {
   "codemirror_mode": {
    "name": "ipython",
    "version": 3
   },
   "file_extension": ".py",
   "mimetype": "text/x-python",
   "name": "python",
   "nbconvert_exporter": "python",
   "pygments_lexer": "ipython3",
   "version": "3.10.4"
  },
  "orig_nbformat": 4,
  "vscode": {
   "interpreter": {
    "hash": "d3e10ef16274dd72e574b8fa73b58450b957d8421a2901baded3cca26fcf5dda"
   }
  }
 },
 "nbformat": 4,
 "nbformat_minor": 2
}
