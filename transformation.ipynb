{
 "cells": [
  {
   "cell_type": "code",
   "execution_count": 2,
   "metadata": {},
   "outputs": [],
   "source": [
    "import cv2 as cv\n",
    "import numpy as np"
   ]
  },
  {
   "cell_type": "code",
   "execution_count": null,
   "metadata": {},
   "outputs": [],
   "source": [
    "img = cv.imread('Photos/park.jpg')\n",
    "cv.imshow('Park', img)\n",
    "\n",
    "# Translation\n",
    "def translate(img, x, y): # x and y are the amount of pixels we want to shift the image\n",
    "    transMatrix = np.float32([[1, 0, x], [0, 1, y]])\n",
    "    dimensions = (img.shape[1], img.shape[0])\n",
    "    return cv.warpAffine(img, transMatrix, dimensions) # warpAffine is used to apply the transformation matrix to the image\n",
    "    \n",
    "# -x --> Left\n",
    "# -y --> Up\n",
    "# x --> Right\n",
    "# y --> Down\n",
    "\n",
    "translated = translate(img, -100, 100)\n",
    "cv.imshow('Translated Park', translated) \n",
    "\n",
    "cv.waitKey(0)"
   ]
  },
  {
   "cell_type": "code",
   "execution_count": null,
   "metadata": {},
   "outputs": [],
   "source": [
    "img = cv.imread('Photos/park.jpg')\n",
    "cv.imshow('Park', img)\n",
    "\n",
    "# Rotation\n",
    "def rotate(img, angle, rotationPoint=None):\n",
    "    (height, width) = img.shape[:2]\n",
    "    \n",
    "    if rotationPoint is None:\n",
    "        rotationPoint = (width//2, height//2)\n",
    "        \n",
    "    rotationMatrix = cv.getRotationMatrix2D(rotationPoint, angle, 1.0)\n",
    "    dimensions = (width, height)\n",
    "    \n",
    "    return cv.warpAffine(img, rotationMatrix, dimensions)\n",
    "\n",
    "rotated = rotate(img, -45)\n",
    "cv.imshow('Rotated Park', rotated)\n",
    "\n",
    "rotatedx2 = rotate(img, -90)\n",
    "cv.imshow('Rotated Park x2', rotatedx2)\n",
    "\n",
    "cv.waitKey(0)"
   ]
  },
  {
   "cell_type": "code",
   "execution_count": null,
   "metadata": {},
   "outputs": [],
   "source": [
    "img = cv.imread('Photos/park.jpg')\n",
    "cv.imshow('Park', img)\n",
    "\n",
    "# Resizing\n",
    "resized = cv.resize(img, (500, 500), interpolation=cv.INTER_AREA)\n",
    "# cv.INTER_AREA is used when shrinking an image\n",
    "# cv.INTER_CUBIC is used when zooming in an image (slower but better quality)\n",
    "# cv.INTER_LINEAR is used when zooming in or shrinking an image \n",
    "cv.imshow('Resized Park', resized)\n",
    "cv.waitKey(0)"
   ]
  },
  {
   "cell_type": "code",
   "execution_count": 3,
   "metadata": {},
   "outputs": [
    {
     "data": {
      "text/plain": [
       "-1"
      ]
     },
     "execution_count": 3,
     "metadata": {},
     "output_type": "execute_result"
    }
   ],
   "source": [
    "img = cv.imread('Photos/park.jpg')\n",
    "cv.imshow('Park', img)\n",
    "\n",
    "# Flipping\n",
    "flipped = cv.flip(img, 0)\n",
    "# 0 --> Flips vertically\n",
    "# 1 --> Flips horizontally (means that the image is mirrored)\n",
    "# -1 --> Flips both vertically and horizontally\n",
    "cv.imshow('Flipped Park', flipped)\n",
    "cv.waitKey(0)"
   ]
  },
  {
   "cell_type": "code",
   "execution_count": 4,
   "metadata": {},
   "outputs": [
    {
     "data": {
      "text/plain": [
       "-1"
      ]
     },
     "execution_count": 4,
     "metadata": {},
     "output_type": "execute_result"
    }
   ],
   "source": [
    "img = cv.imread('Photos/park.jpg')\n",
    "cv.imshow('Park', img)\n",
    "\n",
    "# Cropping\n",
    "cropped = img[200:400, 300:400] \n",
    "cv.imshow('Cropped Park', cropped)\n",
    "cv.waitKey(0)"
   ]
  }
 ],
 "metadata": {
  "kernelspec": {
   "display_name": "Python 3.10.4 64-bit",
   "language": "python",
   "name": "python3"
  },
  "language_info": {
   "codemirror_mode": {
    "name": "ipython",
    "version": 3
   },
   "file_extension": ".py",
   "mimetype": "text/x-python",
   "name": "python",
   "nbconvert_exporter": "python",
   "pygments_lexer": "ipython3",
   "version": "3.10.4"
  },
  "orig_nbformat": 4,
  "vscode": {
   "interpreter": {
    "hash": "d3e10ef16274dd72e574b8fa73b58450b957d8421a2901baded3cca26fcf5dda"
   }
  }
 },
 "nbformat": 4,
 "nbformat_minor": 2
}
