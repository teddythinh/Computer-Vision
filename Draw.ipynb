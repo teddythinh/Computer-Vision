{
 "cells": [
  {
   "cell_type": "code",
   "execution_count": 7,
   "metadata": {},
   "outputs": [],
   "source": [
    "import cv2 as cv\n",
    "import numpy as np"
   ]
  },
  {
   "cell_type": "code",
   "execution_count": 8,
   "metadata": {},
   "outputs": [
    {
     "data": {
      "text/plain": [
       "-1"
      ]
     },
     "execution_count": 8,
     "metadata": {},
     "output_type": "execute_result"
    }
   ],
   "source": [
    "blank = np.zeros((500, 500, 3), dtype='uint8') # uint8 is the datatype for images\n",
    "cv.imshow('Blank', blank)  \n",
    "\n",
    "# # 1. Paint the image a certain color\n",
    "# blank[200:300, 300:400] = 0,255,0 \n",
    "# cv.imshow('Green', blank)\n",
    "\n",
    "# # 2. Draw a rectangle\n",
    "# # rectangle from (0,0) to the blank's center\n",
    "# cv.rectangle(blank, (0,0), (blank.shape[1]//2, blank.shape[0]//2), (0,255,0), thickness=cv.FILLED) \n",
    "# cv.imshow('Rectangle', blank)\n",
    "\n",
    "# # 3. Draw a circle\n",
    "# # circle in the center of the blank, 40 pixels in radius, red\n",
    "# cv.circle(blank, (blank.shape[1]//2, blank.shape[0]//2), 40, (0,0,255), thickness=3)\n",
    "# cv.imshow('Circle', blank)\n",
    "\n",
    "# # 4. Draw a line\n",
    "# cv.line(blank, (0,0), (blank.shape[1]//2, blank.shape[0]//2), (255,255,255), thickness=3)\n",
    "# cv.imshow('Line', blank)\n",
    "\n",
    "# 5. Write text\n",
    "cv.putText(blank, 'Hello, my name is Thinh', (0, 225), cv.FONT_HERSHEY_TRIPLEX, 1.0, (0, 255, 0), 2)\n",
    "cv.imshow('Text', blank)  \n",
    "cv.waitKey(0)"
   ]
  }
 ],
 "metadata": {
  "kernelspec": {
   "display_name": "Python 3.10.4 64-bit",
   "language": "python",
   "name": "python3"
  },
  "language_info": {
   "codemirror_mode": {
    "name": "ipython",
    "version": 3
   },
   "file_extension": ".py",
   "mimetype": "text/x-python",
   "name": "python",
   "nbconvert_exporter": "python",
   "pygments_lexer": "ipython3",
   "version": "3.10.4"
  },
  "orig_nbformat": 4,
  "vscode": {
   "interpreter": {
    "hash": "d3e10ef16274dd72e574b8fa73b58450b957d8421a2901baded3cca26fcf5dda"
   }
  }
 },
 "nbformat": 4,
 "nbformat_minor": 2
}
