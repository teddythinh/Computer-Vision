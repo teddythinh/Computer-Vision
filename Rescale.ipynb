{
 "cells": [
  {
   "cell_type": "code",
   "execution_count": 4,
   "metadata": {},
   "outputs": [],
   "source": [
    "import cv2 as cv\n",
    "import sys"
   ]
  },
  {
   "cell_type": "code",
   "execution_count": 5,
   "metadata": {},
   "outputs": [],
   "source": [
    "def rescaleFrame(frame, scale=0.75): # scale=0.75 means 75% of the original size\n",
    "    # For images, videos and live videos\n",
    "    width = int(frame.shape[1] * scale)\n",
    "    height = int(frame.shape[0] * scale)\n",
    "    demensions = (width, height)\n",
    "    \n",
    "    return cv.resize(frame, demensions, interpolation=cv.INTER_AREA) \n",
    "    # INTER_AREA is for shrinking\n",
    "    # resize one frame to a particular demension"
   ]
  },
  {
   "cell_type": "code",
   "execution_count": 7,
   "metadata": {},
   "outputs": [
    {
     "data": {
      "text/plain": [
       "-1"
      ]
     },
     "execution_count": 7,
     "metadata": {},
     "output_type": "execute_result"
    }
   ],
   "source": [
    "img = cv.imread('Photos\\cat.jpg')\n",
    "cv.imshow('Cat', img)\n",
    "\n",
    "resized_img = rescaleFrame(img)\n",
    "cv.imshow('Resized Cat', resized_img)\n",
    "\n",
    "cv.waitKey(0)"
   ]
  },
  {
   "cell_type": "code",
   "execution_count": 6,
   "metadata": {},
   "outputs": [],
   "source": [
    "def changeResolution(width, height):\n",
    "    # For live videos\n",
    "    capture.set(3, width)\n",
    "    capture.set(4, height)\n",
    "\n",
    "capture = cv.VideoCapture('Videos\\dog.mp4')\n",
    "while True:\n",
    "    isTrue, frame = capture.read() # read frame by frame\n",
    "    \n",
    "    frame_resized = rescaleFrame(frame, scale=0.2)\n",
    "    \n",
    "    cv.imshow('Video', frame)\n",
    "    cv.imshow('Video Resized', frame_resized)\n",
    "    \n",
    "    if cv.waitKey(20) & 0xFF==ord('d'): # if d is pressed then break\n",
    "        break\n",
    "capture.release()\n",
    "cv.destroyAllWindows()"
   ]
  }
 ],
 "metadata": {
  "kernelspec": {
   "display_name": "Python 3.10.4 64-bit",
   "language": "python",
   "name": "python3"
  },
  "language_info": {
   "codemirror_mode": {
    "name": "ipython",
    "version": 3
   },
   "file_extension": ".py",
   "mimetype": "text/x-python",
   "name": "python",
   "nbconvert_exporter": "python",
   "pygments_lexer": "ipython3",
   "version": "3.10.4"
  },
  "orig_nbformat": 4,
  "vscode": {
   "interpreter": {
    "hash": "d3e10ef16274dd72e574b8fa73b58450b957d8421a2901baded3cca26fcf5dda"
   }
  }
 },
 "nbformat": 4,
 "nbformat_minor": 2
}
